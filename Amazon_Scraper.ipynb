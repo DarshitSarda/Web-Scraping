{
 "cells": [
  {
   "cell_type": "code",
   "execution_count": 1,
   "id": "0569bd69",
   "metadata": {},
   "outputs": [],
   "source": [
    "from bs4 import BeautifulSoup\n",
    "import requests\n",
    "import smtplib\n",
    "import time\n",
    "import datetime"
   ]
  },
  {
   "cell_type": "code",
   "execution_count": 2,
   "id": "a1c5e19d",
   "metadata": {},
   "outputs": [],
   "source": [
    "URL = 'https://www.amazon.com/dp/B07S2Z9433/ref=sspa_dk_detail_0?psc=1&pd_rd_i=B07S2Z9433&pd_rd_w=V6ztM&content-id=amzn1.sym.eb7c1ac5-7c51-4df5-ba34-ca810f1f119a&pf_rd_p=eb7c1ac5-7c51-4df5-ba34-ca810f1f119a&pf_rd_r=THK391Z3MMDWWFHF7G16&pd_rd_wg=Ma1AF&pd_rd_r=7777bee2-8dec-49c1-aac4-35bca1077dfe&s=apparel&sp_csd=d2lkZ2V0TmFtZT1zcF9kZXRhaWw'"
   ]
  },
  {
   "cell_type": "code",
   "execution_count": 3,
   "id": "473c36df",
   "metadata": {},
   "outputs": [
    {
     "name": "stdout",
     "output_type": "stream",
     "text": [
      "\n",
      "                    People Who Tolerate Me On A Daily Basis Sarcastic Funny T Shirt\n",
      "                   \n"
     ]
    }
   ],
   "source": [
    "headers = {\"User-Agent\": \"Mozilla/5.0 (Windows NT 10.0; Win64; x64) AppleWebKit/537.36 (KHTML, like Gecko) Chrome/78.0.3904.108 Safari/537.36\", \"Accept-Encoding\":\"gzip, deflate\", \"Accept\":\"text/html,application/xhtml+xml,application/xml;q=0.9,*/*;q=0.8\", \"DNT\":\"1\",\"Connection\":\"close\", \"Upgrade-Insecure-Requests\":\"1\"}\n",
    "\n",
    "page = requests.get(URL, headers=headers)\n",
    "\n",
    "soup1 = BeautifulSoup(page.content, \"html.parser\")\n",
    "soup2 = BeautifulSoup(soup1.prettify(),\"html.parser\")\n",
    "title = soup2.find(id='productTitle').get_text()\n",
    "print(title)"
   ]
  },
  {
   "cell_type": "code",
   "execution_count": 4,
   "id": "165cfff5",
   "metadata": {},
   "outputs": [
    {
     "name": "stdout",
     "output_type": "stream",
     "text": [
      "People Who Tolerate Me On A Daily Basis Sarcastic Funny T Shirt\n"
     ]
    }
   ],
   "source": [
    "title = title.strip()\n",
    "print(title)"
   ]
  },
  {
   "cell_type": "code",
   "execution_count": null,
   "id": "4708d1ec",
   "metadata": {},
   "outputs": [],
   "source": []
  },
  {
   "cell_type": "code",
   "execution_count": null,
   "id": "04e5437b",
   "metadata": {},
   "outputs": [],
   "source": []
  },
  {
   "cell_type": "code",
   "execution_count": null,
   "id": "6abd28c8",
   "metadata": {},
   "outputs": [],
   "source": []
  },
  {
   "cell_type": "code",
   "execution_count": 11,
   "id": "de129ac7",
   "metadata": {},
   "outputs": [
    {
     "name": "stdout",
     "output_type": "stream",
     "text": [
      "CSV file link not found on the webpage.\n"
     ]
    }
   ],
   "source": [
    "import requests\n",
    "from bs4 import BeautifulSoup\n",
    "import os\n",
    "\n",
    "# Function to download CSV file from URL\n",
    "def download_csv(url, output_path):\n",
    "    try:\n",
    "        response = requests.get(url, timeout=10)\n",
    "        response.raise_for_status()  # Raise an exception for 4xx or 5xx status codes\n",
    "        with open(output_path, 'wb') as file:\n",
    "            file.write(response.content)\n",
    "        print(f\"CSV file downloaded successfully to: {output_path}\")\n",
    "    except requests.exceptions.RequestException as e:\n",
    "        print(f\"Error downloading CSV file: {e}\")\n",
    "\n",
    "# Example URL of the webpage containing the CSV file link\n",
    "webpage_url = 'https://example.com'\n",
    "\n",
    "try:\n",
    "    # Send a GET request to the webpage\n",
    "    response = requests.get(webpage_url)\n",
    "    response.raise_for_status()  # Raise an exception for 4xx or 5xx status codes\n",
    "\n",
    "    # Parse the HTML content of the webpage\n",
    "    soup = BeautifulSoup(response.text, 'html.parser')\n",
    "\n",
    "    # Locate the link to the CSV file\n",
    "    csv_link = soup.find('a', href=\"javascript:;\", onclick=\"dnldEquityStock()\")\n",
    "\n",
    "    if csv_link:\n",
    "        # Extract the JavaScript function call from the onclick attribute\n",
    "        onclick_attribute = csv_link.get('onclick')\n",
    "        function_call = onclick_attribute.split('(')[0]\n",
    "\n",
    "        # Assuming the function call contains the URL of the CSV file as a parameter,\n",
    "        # you can extract it and remove any surrounding quotes or spaces\n",
    "        csv_url = function_call.split('\\'')[1].strip()\n",
    "\n",
    "        # Specify the path where you want to save the downloaded CSV file\n",
    "        output_path = 'downloaded_file.csv'\n",
    "\n",
    "        # Download the CSV file\n",
    "        download_csv(csv_url, output_path)\n",
    "    else:\n",
    "        print(\"CSV file link not found on the webpage.\")\n",
    "except requests.exceptions.RequestException as e:\n",
    "    print(f\"Error accessing webpage: {e}\")\n"
   ]
  },
  {
   "cell_type": "code",
   "execution_count": 13,
   "id": "315915e1",
   "metadata": {},
   "outputs": [],
   "source": [
    "def send_mail():\n",
    "    server = smtplib.SMTP_SSL('smtp.gmail.com',465)\n",
    "    server.ehlo()\n",
    "    #server.starttls()\n",
    "    server.ehlo()\n",
    "    server.login('darshitsarda10@gmail.com','SardaDarshit96321604')\n",
    "    \n",
    "    subject = \"The Shirt you want is below $15! Now is your chance to buy!\"\n",
    "    body = \"Alex, This is the moment we have been waiting for. Now is your chance to pick up the shirt of your dreams. Don't mess it up! Link here: https://www.amazon.com/Funny-Data-Systems-Business-Analyst/dp/B07FNW9FGJ/ref=sr_1_3?dchild=1&keywords=data+analyst+tshirt&qid=1626655184&sr=8-3\"\n",
    "   \n",
    "    msg = f\"Subject: {subject}\\n\\n{body}\"\n",
    "    \n",
    "    server.sendmail(\n",
    "        'darshitsarda10@gmail.com',\n",
    "        msg\n",
    "     \n",
    "    )"
   ]
  },
  {
   "cell_type": "code",
   "execution_count": null,
   "id": "41578ff3",
   "metadata": {},
   "outputs": [],
   "source": []
  }
 ],
 "metadata": {
  "kernelspec": {
   "display_name": "Python 3 (ipykernel)",
   "language": "python",
   "name": "python3"
  },
  "language_info": {
   "codemirror_mode": {
    "name": "ipython",
    "version": 3
   },
   "file_extension": ".py",
   "mimetype": "text/x-python",
   "name": "python",
   "nbconvert_exporter": "python",
   "pygments_lexer": "ipython3",
   "version": "3.11.5"
  }
 },
 "nbformat": 4,
 "nbformat_minor": 5
}
